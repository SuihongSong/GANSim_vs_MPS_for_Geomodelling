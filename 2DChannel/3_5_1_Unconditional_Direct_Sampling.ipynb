{
 "cells": [
  {
   "cell_type": "markdown",
   "metadata": {},
   "source": [
    "# MPS using the deesse wrapper \n",
    "\n",
    "The documentation of GEONE is on https://geone.readthedocs.io.\n",
    "\n",
    "The GitHub of GEONE is on https://github.com/randlab/geone\n",
    "    "
   ]
  },
  {
   "cell_type": "code",
   "execution_count": null,
   "metadata": {
    "collapsed": true
   },
   "outputs": [],
   "source": [
    "import numpy as np\n",
    "import matplotlib.pyplot as plt\n",
    "import time\n",
    "import os\n",
    "\n",
    "# import package 'geone'\n",
    "import geone as gn\n",
    "import pandas as pd"
   ]
  },
  {
   "cell_type": "markdown",
   "metadata": {},
   "source": [
    "# Data and result paths"
   ]
  },
  {
   "cell_type": "code",
   "execution_count": 2,
   "metadata": {
    "collapsed": true
   },
   "outputs": [],
   "source": [
    "# Path of training image\n",
    "data_dir = '3_5_0_MPS_Training_images/'\n",
    "TI_name='Uncond_Channel_TI_DS.txt'\n",
    "\n",
    "# Path of saving the simulation results\n",
    "saved_sim_dir='Saved_sim_dir/Direct_sampling/'\n",
    "\n"
   ]
  },
  {
   "cell_type": "markdown",
   "metadata": {},
   "source": [
    "# Simulation setup"
   ]
  },
  {
   "cell_type": "code",
   "execution_count": null,
   "metadata": {
    "collapsed": true
   },
   "outputs": [],
   "source": [
    "nreal=100 # Number of realizations\n",
    "\n",
    "# Setting the Parameters in DS for different combinations\n",
    "nneighboringNode_list=[5,10,15,20]\n",
    "distanceThreshold_list=[0.001,0.01,0.1,0.5]\n",
    "maxScanFraction_list=[1]"
   ]
  },
  {
   "cell_type": "markdown",
   "metadata": {},
   "source": [
    "# Load training image"
   ]
  },
  {
   "cell_type": "code",
   "execution_count": 28,
   "metadata": {
    "collapsed": true
   },
   "outputs": [],
   "source": [
    "filename = os.path.join(data_dir, TI_name)\n",
    "ti = gn.img.readImageTxt(filename)\n"
   ]
  },
  {
   "cell_type": "code",
   "execution_count": 29,
   "metadata": {},
   "outputs": [
    {
     "data": {
      "image/png": "[encoded data removed]",
      "text/plain": [
       "<Figure size 500x500 with 2 Axes>"
      ]
     },
     "metadata": {},
     "output_type": "display_data"
    }
   ],
   "source": [
    "# Setting for categories / colors\n",
    "categ_val = [0, 1, 2] \n",
    "categ_col = ['lightblue', 'darkgreen', 'orange']\n",
    "\n",
    "plt.figure(figsize=(5,5))\n",
    "gn.imgplot.drawImage2D(ti, categ=True, categVal=categ_val, categCol=categ_col, title='TI')\n",
    "plt.show()"
   ]
  },
  {
   "cell_type": "code",
   "execution_count": 30,
   "metadata": {
    "scrolled": true
   },
   "outputs": [
    {
     "data": {
      "text/plain": [
       "*** Img object ***\n",
       "name = '../../../Saved_dataset_deesse/v4/Unc_Flu_TI_processed.txt'\n",
       "(nx, ny, nz) = (200, 200, 1) # number of cells along each axis\n",
       "(sx, sy, sz) = (1.0, 1.0, 1.0) # cell size (spacing) along each axis\n",
       "(ox, oy, oz) = (0.0, 0.0, 0.0) # origin (coordinates of bottom-lower-left corner)\n",
       "nv = 1  # number of variable(s)\n",
       "varname = ['code']\n",
       "val: (1, 1, 200, 200)-array\n",
       "*****"
      ]
     },
     "execution_count": 30,
     "metadata": {},
     "output_type": "execute_result"
    }
   ],
   "source": [
    "ti"
   ]
  },
  {
   "cell_type": "code",
   "execution_count": 31,
   "metadata": {},
   "outputs": [
    {
     "data": {
      "text/plain": [
       "array([[[[1., 2., 2., ..., 1., 0., 0.],\n",
       "         [1., 2., 2., ..., 1., 1., 0.],\n",
       "         [1., 2., 2., ..., 2., 1., 0.],\n",
       "         ...,\n",
       "         [0., 0., 0., ..., 0., 0., 0.],\n",
       "         [0., 0., 0., ..., 0., 0., 0.],\n",
       "         [0., 0., 0., ..., 0., 0., 0.]]]])"
      ]
     },
     "execution_count": 31,
     "metadata": {},
     "output_type": "execute_result"
    }
   ],
   "source": [
    "ti.val"
   ]
  },
  {
   "cell_type": "markdown",
   "metadata": {},
   "source": [
    "### Simulation grid\n",
    "Define the simulation grid (number of cells in each direction, cell unit, origin)."
   ]
  },
  {
   "cell_type": "code",
   "execution_count": 32,
   "metadata": {
    "collapsed": true
   },
   "outputs": [],
   "source": [
    "nx, ny, nz = 64, 64, 1         # number of cells\n",
    "sx, sy, sz = ti.sx, ti.sy, ti.sz # cell unit\n",
    "ox, oy, oz = 0.0, 0.0, 0.0       # origin (corner of the \"first\" grid cell)"
   ]
  },
  {
   "cell_type": "markdown",
   "metadata": {},
   "source": [
    "### Define the classes of values\n",
    "First, the classes of values for which the proportions will be specified have to be defined.\n",
    "\n",
    "A class is defined as an interval or a union of intervals:\n",
    "- `cl = [a, b]`, with `a < b`, define the class `cl` of any numerical value $v$ such that $a\\leqslant v < b$ ($a$ is included and $b$ excluded);\n",
    "- `cl = [[a1, b1], [a2, b2]]`, with `a1 < b1`, `a2 < b2` , define the class `cl` of any numerical value $v$ such that $a1\\leqslant v < b1$ or $a2\\leqslant v < b2$; more than two sub-intervals can be given.\n",
    "\n",
    "In categorical case, a class for a category has to be defined as an interval of lower bound $a$ (included) and upper bound $b$ (excluded) that contains the value $v$ used for the category. Adapting the bounds allows to exclude other categories.\n",
    "\n",
    "A class can be defined as a union of intervals to gather several categories whose the category values are not \"adjacent\"."
   ]
  },
  {
   "cell_type": "code",
   "execution_count": 33,
   "metadata": {
    "collapsed": true
   },
   "outputs": [],
   "source": [
    "nclass = 3\n",
    "class1 = [-0.5, 0.5] # interval [-0.5, 0.5[ (for facies code 0)\n",
    "class2 = [ 0.5, 1.5] # interval [ 0.5, 1.5[ (for facies code 1)\n",
    "class3 = [ 1.5, 2.5] # interval [ 1.5, 2.5[ (for facies code 2)\n",
    "\n",
    "list_of_classes = [class1, class2, class3]"
   ]
  },
  {
   "cell_type": "markdown",
   "metadata": {},
   "source": [
    "# Unconditional Simulation"
   ]
  },
  {
   "cell_type": "code",
   "execution_count": 34,
   "metadata": {},
   "outputs": [
    {
     "name": "stdout",
     "output_type": "stream",
     "text": [
      "Current jobs: 1/16\n",
      "deesseRun: DeeSse running... [VERSION 3.2 / BUILD NUMBER 20230914 / OpenMP 15 thread(s)]\n",
      "deesseRun: DeeSse run complete\n",
      "Elapsed time: 1.1595330238342285 seconds\n",
      "Current jobs: 2/16\n",
      "deesseRun: DeeSse running... [VERSION 3.2 / BUILD NUMBER 20230914 / OpenMP 15 thread(s)]\n",
      "deesseRun: DeeSse run complete\n",
      "Elapsed time: 1.212632656097412 seconds\n",
      "Current jobs: 3/16\n",
      "deesseRun: DeeSse running... [VERSION 3.2 / BUILD NUMBER 20230914 / OpenMP 15 thread(s)]\n",
      "deesseRun: DeeSse run complete\n",
      "Elapsed time: 1.1701123714447021 seconds\n",
      "Current jobs: 4/16\n",
      "deesseRun: DeeSse running... [VERSION 3.2 / BUILD NUMBER 20230914 / OpenMP 15 thread(s)]\n",
      "deesseRun: DeeSse run complete\n",
      "Elapsed time: 1.1738903522491455 seconds\n",
      "Current jobs: 5/16\n",
      "deesseRun: DeeSse running... [VERSION 3.2 / BUILD NUMBER 20230914 / OpenMP 15 thread(s)]\n",
      "deesseRun: DeeSse run complete\n",
      "Elapsed time: 5.492486000061035 seconds\n",
      "Current jobs: 6/16\n",
      "deesseRun: DeeSse running... [VERSION 3.2 / BUILD NUMBER 20230914 / OpenMP 15 thread(s)]\n",
      "deesseRun: DeeSse run complete\n",
      "Elapsed time: 5.395108699798584 seconds\n",
      "Current jobs: 7/16\n",
      "deesseRun: DeeSse running... [VERSION 3.2 / BUILD NUMBER 20230914 / OpenMP 15 thread(s)]\n",
      "deesseRun: DeeSse run complete\n",
      "Elapsed time: 2.353722095489502 seconds\n",
      "Current jobs: 8/16\n",
      "deesseRun: DeeSse running... [VERSION 3.2 / BUILD NUMBER 20230914 / OpenMP 15 thread(s)]\n",
      "deesseRun: DeeSse run complete\n",
      "Elapsed time: 1.3004188537597656 seconds\n",
      "Current jobs: 9/16\n",
      "deesseRun: DeeSse running... [VERSION 3.2 / BUILD NUMBER 20230914 / OpenMP 15 thread(s)]\n",
      "deesseRun: DeeSse run complete\n",
      "Elapsed time: 10.964343786239624 seconds\n",
      "Current jobs: 10/16\n",
      "deesseRun: DeeSse running... [VERSION 3.2 / BUILD NUMBER 20230914 / OpenMP 15 thread(s)]\n",
      "deesseRun: DeeSse run complete\n",
      "Elapsed time: 10.868223905563354 seconds\n",
      "Current jobs: 11/16\n",
      "deesseRun: DeeSse running... [VERSION 3.2 / BUILD NUMBER 20230914 / OpenMP 15 thread(s)]\n",
      "deesseRun: DeeSse run complete\n",
      "Elapsed time: 7.343040227890015 seconds\n",
      "Current jobs: 12/16\n",
      "deesseRun: DeeSse running... [VERSION 3.2 / BUILD NUMBER 20230914 / OpenMP 15 thread(s)]\n",
      "deesseRun: DeeSse run complete\n",
      "Elapsed time: 1.4114995002746582 seconds\n",
      "Current jobs: 13/16\n",
      "deesseRun: DeeSse running... [VERSION 3.2 / BUILD NUMBER 20230914 / OpenMP 15 thread(s)]\n",
      "deesseRun: DeeSse run complete\n",
      "Elapsed time: 14.001874446868896 seconds\n",
      "Current jobs: 14/16\n",
      "deesseRun: DeeSse running... [VERSION 3.2 / BUILD NUMBER 20230914 / OpenMP 15 thread(s)]\n",
      "deesseRun: DeeSse run complete\n",
      "Elapsed time: 13.984915018081665 seconds\n",
      "Current jobs: 15/16\n",
      "deesseRun: DeeSse running... [VERSION 3.2 / BUILD NUMBER 20230914 / OpenMP 15 thread(s)]\n",
      "deesseRun: DeeSse run complete\n",
      "Elapsed time: 9.391097784042358 seconds\n",
      "Current jobs: 16/16\n",
      "deesseRun: DeeSse running... [VERSION 3.2 / BUILD NUMBER 20230914 / OpenMP 15 thread(s)]\n",
      "deesseRun: DeeSse run complete\n",
      "Elapsed time: 1.5407195091247559 seconds\n"
     ]
    }
   ],
   "source": [
    "run_time=[] # save the run time for each job\n",
    "parameter_name=[] # Combination of different parameters\n",
    "\n",
    "\n",
    "process_index=0\n",
    "total_n_jobs=len(nneighboringNode_list)*len(distanceThreshold_list)*len(maxScanFraction_list) # Total number of jobs (parameter combinations)\n",
    "\n",
    "for nneighboringNode in nneighboringNode_list:\n",
    "    for distanceThreshold in distanceThreshold_list:\n",
    "        for maxScanFraction in maxScanFraction_list:\n",
    "            # Run deesse\n",
    "            start_time = time.time() # start time\n",
    "\n",
    "            \n",
    "            process_index=process_index+1\n",
    "            print('Current jobs: %d/%d'%(process_index,total_n_jobs))\n",
    "\n",
    "            \n",
    "            deesse_input = gn.deesseinterface.DeesseInput(\n",
    "                nx=nx, ny=ny, nz=nz,\n",
    "                sx=sx, sy=sy, sz=sz,\n",
    "                ox=ox, oy=oy, oz=oz,\n",
    "                nv=1, varname='code',\n",
    "                TI=ti,\n",
    "                distanceType='categorical',\n",
    "                nneighboringNode=nneighboringNode,\n",
    "                distanceThreshold=distanceThreshold,\n",
    "                maxScanFraction=maxScanFraction,\n",
    "                npostProcessingPathMax=1,\n",
    "                nrealization=nreal)\n",
    "            \n",
    "            # Run simulation\n",
    "            deesse_output = gn.deesseinterface.deesseRun(deesse_input)\n",
    "\n",
    "            # Retrieve the realization\n",
    "            sim = deesse_output['sim']\n",
    "\n",
    "            # Save simulations in the corresponding folders. The folder name is the combination of paramters\n",
    "            save_sim=np.zeros((nreal,64,64))\n",
    "            new_folder='n_%d_t_%.3f_f_%.2f'%(nneighboringNode,distanceThreshold,maxScanFraction)\n",
    "            new_folder_path=saved_sim_dir+new_folder\n",
    "            os.makedirs(new_folder_path)\n",
    "            for i in range(nreal):\n",
    "                save_sim[i]=np.flip(sim[i].val[0][0],axis=0)\n",
    "                plt.imsave(new_folder_path+'/'+'%d.png'%i,save_sim[i],cmap='viridis')\n",
    "\n",
    "            np.save(new_folder_path+'/'+'all_sim_results.npy',save_sim)\n",
    "            \n",
    "            # Calculate the runtime\n",
    "            end_time = time.time()\n",
    "            elapsed_time = end_time - start_time\n",
    "            print(\"Elapsed time:\", elapsed_time, \"seconds\")        \n",
    "            run_time.append(elapsed_time)\n",
    "            parameter_name.append(new_folder)\n",
    "\n",
    "# Save the runtimes of each paramter combination into a csv file\n",
    "parameters_time={'parameters':parameter_name,'Runtime (s)':run_time}\n",
    "parameters_time=pd.DataFrame(parameters_time)\n",
    "parameters_time.to_csv(saved_sim_dir+'parameters_runtime.csv', index=False)    \n"
   ]
  },
  {
   "cell_type": "code",
   "execution_count": null,
   "metadata": {
    "collapsed": true
   },
   "outputs": [],
   "source": []
  },
  {
   "cell_type": "code",
   "execution_count": null,
   "metadata": {
    "collapsed": true
   },
   "outputs": [],
   "source": []
  },
  {
   "cell_type": "code",
   "execution_count": null,
   "metadata": {
    "collapsed": true
   },
   "outputs": [],
   "source": []
  },
  {
   "cell_type": "code",
   "execution_count": null,
   "metadata": {
    "collapsed": true
   },
   "outputs": [],
   "source": []
  },
  {
   "cell_type": "code",
   "execution_count": null,
   "metadata": {
    "collapsed": true
   },
   "outputs": [],
   "source": []
  },
  {
   "cell_type": "code",
   "execution_count": null,
   "metadata": {
    "collapsed": true
   },
   "outputs": [],
   "source": []
  },
  {
   "cell_type": "code",
   "execution_count": null,
   "metadata": {
    "collapsed": true
   },
   "outputs": [],
   "source": []
  }
 ],
 "metadata": {
  "kernelspec": {
   "display_name": "Python 3",
   "language": "python",
   "name": "python3"
  },
  "language_info": {
   "codemirror_mode": {
    "name": "ipython",
    "version": 3
   },
   "file_extension": ".py",
   "mimetype": "text/x-python",
   "name": "python",
   "nbconvert_exporter": "python",
   "pygments_lexer": "ipython3",
   "version": "3.6.1"
  }
 },
 "nbformat": 4,
 "nbformat_minor": 4
}
