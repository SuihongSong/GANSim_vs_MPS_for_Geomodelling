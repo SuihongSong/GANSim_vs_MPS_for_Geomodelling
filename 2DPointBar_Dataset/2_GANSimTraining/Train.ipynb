{
 "cells": [
  {
   "cell_type": "markdown",
   "metadata": {},
   "source": [
    "##### Settings for condition-based loss for probability map are explained in detail in 'Note for settings of probability map-based loss.ipynb'.   "
   ]
  },
  {
   "cell_type": "code",
   "execution_count": 1,
   "metadata": {
    "scrolled": true
   },
   "outputs": [
    {
     "name": "stdout",
     "output_type": "stream",
     "text": [
      "/home/users/suihong/11-GenerativeGeomodelling_GANs_MPS_Comparison/GANSimForAllConditioning_20250718/2_GANSimTraining\n"
     ]
    }
   ],
   "source": [
    "%cd /home/users/suihong/11-GenerativeGeomodelling_GANs_MPS_Comparison/GANSimForAllConditioning_20250718/2_GANSimTraining/"
   ]
  },
  {
   "cell_type": "code",
   "execution_count": 2,
   "metadata": {
    "scrolled": false
   },
   "outputs": [
    {
     "name": "stdout",
     "output_type": "stream",
     "text": [
      "WARNING:tensorflow:From /share/software/user/open/py-tensorflow/2.6.2_py36/lib/python3.6/site-packages/tensorflow/python/compat/v2_compat.py:101: disable_resource_variables (from tensorflow.python.ops.variable_scope) is deprecated and will be removed in a future version.\n",
      "Instructions for updating:\n",
      "non-resource variables are not supported in the long term\n",
      "Initializing TensorFlow...\n",
      "Running train.train_progressive_gan()...\n",
      "Streaming data using dataset.TFRecordDataset...\n",
      "WARNING:tensorflow:From /home/users/suihong/11-GenerativeGeomodelling_GANs_MPS_Comparison/GANSimForAllConditioning_20250718/2_GANSimTraining/dataset.py:99: tf_record_iterator (from tensorflow.python.lib.io.tf_record) is deprecated and will be removed in a future version.\n",
      "Instructions for updating:\n",
      "Use eager execution and: \n",
      "`tf.data.TFRecordDataset(path)`\n",
      "WARNING:tensorflow:From /home/users/suihong/11-GenerativeGeomodelling_GANs_MPS_Comparison/GANSimForAllConditioning_20250718/2_GANSimTraining/dataset.py:143: DatasetV1.output_types (from tensorflow.python.data.ops.dataset_ops) is deprecated and will be removed in a future version.\n",
      "Instructions for updating:\n",
      "Use `tf.compat.v1.data.get_output_types(dataset)`.\n",
      "WARNING:tensorflow:From /home/users/suihong/11-GenerativeGeomodelling_GANs_MPS_Comparison/GANSimForAllConditioning_20250718/2_GANSimTraining/dataset.py:143: DatasetV1.output_shapes (from tensorflow.python.data.ops.dataset_ops) is deprecated and will be removed in a future version.\n",
      "Instructions for updating:\n",
      "Use `tf.compat.v1.data.get_output_shapes(dataset)`.\n",
      "WARNING:tensorflow:From /share/software/user/open/py-tensorflow/2.6.2_py36/lib/python3.6/site-packages/tensorflow/python/data/ops/iterator_ops.py:336: Iterator.output_types (from tensorflow.python.data.ops.iterator_ops) is deprecated and will be removed in a future version.\n",
      "Instructions for updating:\n",
      "Use `tf.compat.v1.data.get_output_types(iterator)`.\n",
      "WARNING:tensorflow:From /share/software/user/open/py-tensorflow/2.6.2_py36/lib/python3.6/site-packages/tensorflow/python/data/ops/iterator_ops.py:337: Iterator.output_shapes (from tensorflow.python.data.ops.iterator_ops) is deprecated and will be removed in a future version.\n",
      "Instructions for updating:\n",
      "Use `tf.compat.v1.data.get_output_shapes(iterator)`.\n",
      "WARNING:tensorflow:From /share/software/user/open/py-tensorflow/2.6.2_py36/lib/python3.6/site-packages/tensorflow/python/data/ops/iterator_ops.py:339: Iterator.output_classes (from tensorflow.python.data.ops.iterator_ops) is deprecated and will be removed in a future version.\n",
      "Instructions for updating:\n",
      "Use `tf.compat.v1.data.get_output_classes(iterator)`.\n",
      "Dataset shape = [1, 64, 64]\n",
      "Dynamic range = [0, 4]\n",
      "Label size    = 2\n",
      "Constructing networks...\n",
      "\n",
      "G                           Params      OutputShape             WeightShape             \n",
      "---                         ---         ---                     ---                     \n",
      "latents_in                  -           (?, 8, 4, 4)            -                       \n",
      "labels_in                   -           (?, 2, 64, 64)          -                       \n",
      "wellfacies_in               -           (?, 0, 64, 64)          -                       \n",
      "probimgs_in                 -           (?, 0, 64, 64)          -                       \n",
      "lod                         -           ()                      -                       \n",
      "stage1_4/Conv0              7008        (?, 96, 4, 4)           (3, 3, 8, 96)           \n",
      "stage1_4/Conv1              83040       (?, 96, 4, 4)           (3, 3, 96, 96)          \n",
      "stage1_4/Add_Label          6           (?, 2, 4, 4)            (1, 1, 2, 2)            \n",
      "stage1_4/Conv2              84768       (?, 96, 4, 4)           (3, 3, 98, 96)          \n",
      "tofm_prob_lod4              388         (?, 4, 4, 4)            (1, 1, 96, 4)           \n",
      "stage2_8/Upscale2d          -           (?, 96, 8, 8)           -                       \n",
      "stage2_8/Add_Label          6           (?, 2, 8, 8)            (1, 1, 2, 2)            \n",
      "stage2_8/Conv0              84768       (?, 96, 8, 8)           (3, 3, 98, 96)          \n",
      "stage2_8/Conv1              83040       (?, 96, 8, 8)           (3, 3, 96, 96)          \n",
      "stage2_8/Conv2              83040       (?, 96, 8, 8)           (3, 3, 96, 96)          \n",
      "tofm_prob_lod3              388         (?, 4, 8, 8)            (1, 1, 96, 4)           \n",
      "Upscale2d                   -           (?, 4, 8, 8)            -                       \n",
      "Grow_lod3                   -           (?, 4, 8, 8)            -                       \n",
      "stage3_16/Upscale2d         -           (?, 96, 16, 16)         -                       \n",
      "stage3_16/Add_Label         6           (?, 2, 16, 16)          (1, 1, 2, 2)            \n",
      "stage3_16/Conv0             84768       (?, 96, 16, 16)         (3, 3, 98, 96)          \n",
      "stage3_16/Conv1             83040       (?, 96, 16, 16)         (3, 3, 96, 96)          \n",
      "stage3_16/Conv2             83040       (?, 96, 16, 16)         (3, 3, 96, 96)          \n",
      "tofm_prob_lod2              388         (?, 4, 16, 16)          (1, 1, 96, 4)           \n",
      "Upscale2d_1                 -           (?, 4, 16, 16)          -                       \n",
      "Grow_lod2                   -           (?, 4, 16, 16)          -                       \n",
      "stage4_32/Upscale2d         -           (?, 96, 32, 32)         -                       \n",
      "stage4_32/Add_Label         6           (?, 2, 32, 32)          (1, 1, 2, 2)            \n",
      "stage4_32/Conv0             84768       (?, 96, 32, 32)         (3, 3, 98, 96)          \n",
      "stage4_32/Conv1             83040       (?, 96, 32, 32)         (3, 3, 96, 96)          \n",
      "stage4_32/Conv2             83040       (?, 96, 32, 32)         (3, 3, 96, 96)          \n",
      "tofm_prob_lod1              388         (?, 4, 32, 32)          (1, 1, 96, 4)           \n",
      "Upscale2d_2                 -           (?, 4, 32, 32)          -                       \n",
      "Grow_lod1                   -           (?, 4, 32, 32)          -                       \n",
      "stage5_64/Upscale2d         -           (?, 96, 64, 64)         -                       \n",
      "stage5_64/Add_Label         6           (?, 2, 64, 64)          (1, 1, 2, 2)            \n",
      "stage5_64/Conv0             56512       (?, 64, 64, 64)         (3, 3, 98, 64)          \n",
      "stage5_64/Conv1             36928       (?, 64, 64, 64)         (3, 3, 64, 64)          \n",
      "stage5_64/Conv2             36928       (?, 64, 64, 64)         (3, 3, 64, 64)          \n",
      "tofm_prob_lod0              260         (?, 4, 64, 64)          (1, 1, 64, 4)           \n",
      "Upscale2d_3                 -           (?, 4, 64, 64)          -                       \n",
      "Grow_lod0                   -           (?, 4, 64, 64)          -                       \n",
      "Rank                        -           ()                      -                       \n",
      "Rank_1                      -           ()                      -                       \n",
      "Sub                         -           ()                      -                       \n",
      "range                       -           (1,)                    -                       \n",
      "range_1                     -           (1,)                    -                       \n",
      "transpose                   -           (?, 64, 64, 4)          -                       \n",
      "Softmax                     -           (?, 64, 64, 4)          -                       \n",
      "Sub_1                       -           ()                      -                       \n",
      "range_2                     -           (1,)                    -                       \n",
      "range_3                     -           (1,)                    -                       \n",
      "transpose_1                 -           (?, 4, 64, 64)          -                       \n",
      "imgs_out                    -           (?, 4, 64, 64)          -                       \n",
      "---                         ---         ---                     ---                     \n",
      "Total                       1059570                                                     \n",
      "\n",
      "\n",
      "D                           Params      OutputShape             WeightShape             \n",
      "---                         ---         ---                     ---                     \n",
      "imgs_in                     -           (?, 4, 64, 64)          -                       \n"
     ]
    },
    {
     "name": "stdout",
     "output_type": "stream",
     "text": [
      "wellindicator_in            -           (?, 0, 64, 64)          -                       \n",
      "lod                         -           ()                      -                       \n",
      "FromFM_lod0                 80          (?, 16, 64, 64)         (1, 1, 4, 16)           \n",
      "init_pat_feat               -           (?,)                    -                       \n",
      "init_pat_feat_1             -           (?,)                    -                       \n",
      "init_pat_feat_2             -           (?,)                    -                       \n",
      "ToPF_lod0                   3841        (?,)                    -                       \n",
      "pat_feat_Grow_lod0          -           (?,)                    -                       \n",
      "stage5_64/Conv0             4640        (?, 32, 32, 32)         (3, 3, 16, 32)          \n",
      "stage5_64/Conv1             9248        (?, 32, 64, 64)         (3, 3, 32, 32)          \n",
      "stage5_64/Downscale2d       -           (?, 32, 32, 32)         -                       \n",
      "Downscale2d                 -           (?, 4, 32, 32)          -                       \n",
      "FromFM_lod1                 160         (?, 32, 32, 32)         (1, 1, 4, 32)           \n",
      "Grow_lod0                   -           (?, 32, 32, 32)         -                       \n",
      "ToPF_lod1                   4865        (?,)                    -                       \n",
      "pat_feat_Grow_lod1          -           (?,)                    -                       \n",
      "stage4_32/Conv0             18496       (?, 64, 16, 16)         (3, 3, 32, 64)          \n",
      "stage4_32/Conv1             36928       (?, 64, 32, 32)         (3, 3, 64, 64)          \n",
      "stage4_32/Downscale2d       -           (?, 64, 16, 16)         -                       \n",
      "Downscale2d_1               -           (?, 4, 16, 16)          -                       \n",
      "FromFM_lod2                 320         (?, 64, 16, 16)         (1, 1, 4, 64)           \n",
      "Grow_lod1                   -           (?, 64, 16, 16)         -                       \n",
      "ToPF_lod2                   6913        (?,)                    -                       \n",
      "pat_feat_Grow_lod2          -           (?,)                    -                       \n",
      "stage3_16/Conv0             73856       (?, 128, 8, 8)          (3, 3, 64, 128)         \n",
      "stage3_16/Conv1             147584      (?, 128, 16, 16)        (3, 3, 128, 128)        \n",
      "stage3_16/Downscale2d       -           (?, 128, 8, 8)          -                       \n",
      "Downscale2d_2               -           (?, 4, 8, 8)            -                       \n",
      "FromFM_lod3                 640         (?, 128, 8, 8)          (1, 1, 4, 128)          \n",
      "Grow_lod2                   -           (?, 128, 8, 8)          -                       \n",
      "ToPF_lod3                   11009       (?,)                    -                       \n",
      "pat_feat_Grow_lod3          -           (?,)                    -                       \n",
      "stage2_8/Conv0              147584      (?, 128, 4, 4)          (3, 3, 128, 128)        \n",
      "stage2_8/Conv1              147584      (?, 128, 8, 8)          (3, 3, 128, 128)        \n",
      "stage2_8/Downscale2d        -           (?, 128, 4, 4)          -                       \n",
      "Downscale2d_3               -           (?, 4, 4, 4)            -                       \n",
      "FromFM_lod4                 640         (?, 128, 4, 4)          (1, 1, 4, 128)          \n",
      "Grow_lod3                   -           (?, 128, 4, 4)          -                       \n",
      "ToPF_lod5                   11009       (?,)                    -                       \n",
      "pat_feat_Grow_lod5          -           (?,)                    -                       \n",
      "stage1_4/MinibatchStddev    -           (?, 1, 4, 4)            -                       \n",
      "stage1_4/Conv               148736      (?, 128, 4, 4)          (3, 3, 129, 128)        \n",
      "stage1_4/Dense0             36882       (?, 18)                 (2048, 18)              \n",
      "stage1_4/Dense1             57          (?, 3)                  (18, 3)                 \n",
      "scores_out_global           -           (?, 1)                  -                       \n",
      "scores_out_local_lg         -           (?,)                    -                       \n",
      "scores_out_local_md         -           (?,)                    -                       \n",
      "scores_out_local_sm         -           (?,)                    -                       \n",
      "labels_out                  -           (?, 2)                  -                       \n",
      "---                         ---         ---                     ---                     \n",
      "Total                       811072                                                      \n",
      "\n",
      "Building TensorFlow graph...\n",
      "Setting up snapshot image grid...\n",
      "Setting up result dir...\n",
      "Saving results to /scratch/users/suihong/Mud_drape_Channels/TrainedModels/066-prog_1gpu\n",
      "Training...\n",
      "tick 1     kimg 160.0    lod 4.00  minibatch 128  time 1m 35s       sec/tick 94.7    sec/kimg 0.59    maintenance 24.9\n",
      "tick 2     kimg 320.0    lod 4.00  minibatch 128  time 3m 12s       sec/tick 90.6    sec/kimg 0.57    maintenance 6.6\n",
      "tick 3     kimg 640.0    lod 3.50  minibatch 128  time 7m 23s       sec/tick 250.8   sec/kimg 0.78    maintenance 0.1\n"
     ]
    },
    {
     "ename": "FileNotFoundError",
     "evalue": "[Errno 2] No such file or directory: '/scratch/users/suihong/Mud_drape_Channels/TrainedModels/066-prog_1gpu/fakes000640.png'",
     "output_type": "error",
     "traceback": [
      "\u001b[0;31m---------------------------------------------------------------------------\u001b[0m",
      "\u001b[0;31mFileNotFoundError\u001b[0m                         Traceback (most recent call last)",
      "\u001b[0;32m~/11-GenerativeGeomodelling_GANs_MPS_Comparison/GANSimForAllConditioning_20250718/2_GANSimTraining/train.py\u001b[0m in \u001b[0;36m<module>\u001b[0;34m()\u001b[0m\n\u001b[1;32m    317\u001b[0m     \u001b[0mtfutil\u001b[0m\u001b[0;34m.\u001b[0m\u001b[0minit_tf\u001b[0m\u001b[0;34m(\u001b[0m\u001b[0mconfig\u001b[0m\u001b[0;34m.\u001b[0m\u001b[0mtf_config\u001b[0m\u001b[0;34m)\u001b[0m\u001b[0;34m\u001b[0m\u001b[0m\n\u001b[1;32m    318\u001b[0m     \u001b[0mprint\u001b[0m\u001b[0;34m(\u001b[0m\u001b[0;34m'Running %s()...'\u001b[0m \u001b[0;34m%\u001b[0m \u001b[0mconfig\u001b[0m\u001b[0;34m.\u001b[0m\u001b[0mtrain\u001b[0m\u001b[0;34m[\u001b[0m\u001b[0;34m'func'\u001b[0m\u001b[0;34m]\u001b[0m\u001b[0;34m)\u001b[0m\u001b[0;34m\u001b[0m\u001b[0m\n\u001b[0;32m--> 319\u001b[0;31m     \u001b[0mtfutil\u001b[0m\u001b[0;34m.\u001b[0m\u001b[0mcall_func_by_name\u001b[0m\u001b[0;34m(\u001b[0m\u001b[0;34m**\u001b[0m\u001b[0mconfig\u001b[0m\u001b[0;34m.\u001b[0m\u001b[0mtrain\u001b[0m\u001b[0;34m)\u001b[0m\u001b[0;34m\u001b[0m\u001b[0m\n\u001b[0m\u001b[1;32m    320\u001b[0m     \u001b[0mprint\u001b[0m\u001b[0;34m(\u001b[0m\u001b[0;34m'Exiting...'\u001b[0m\u001b[0;34m)\u001b[0m\u001b[0;34m\u001b[0m\u001b[0m\n\u001b[1;32m    321\u001b[0m \u001b[0;34m\u001b[0m\u001b[0m\n",
      "\u001b[0;32m~/11-GenerativeGeomodelling_GANs_MPS_Comparison/GANSimForAllConditioning_20250718/2_GANSimTraining/tfutil.py\u001b[0m in \u001b[0;36mcall_func_by_name\u001b[0;34m(func, *args, **kwargs)\u001b[0m\n\u001b[1;32m    226\u001b[0m \u001b[0;32mdef\u001b[0m \u001b[0mcall_func_by_name\u001b[0m\u001b[0;34m(\u001b[0m\u001b[0;34m*\u001b[0m\u001b[0margs\u001b[0m\u001b[0;34m,\u001b[0m \u001b[0mfunc\u001b[0m\u001b[0;34m=\u001b[0m\u001b[0;32mNone\u001b[0m\u001b[0;34m,\u001b[0m \u001b[0;34m**\u001b[0m\u001b[0mkwargs\u001b[0m\u001b[0;34m)\u001b[0m\u001b[0;34m:\u001b[0m\u001b[0;34m\u001b[0m\u001b[0m\n\u001b[1;32m    227\u001b[0m     \u001b[0;32massert\u001b[0m \u001b[0mfunc\u001b[0m \u001b[0;32mis\u001b[0m \u001b[0;32mnot\u001b[0m \u001b[0;32mNone\u001b[0m\u001b[0;34m\u001b[0m\u001b[0m\n\u001b[0;32m--> 228\u001b[0;31m     \u001b[0;32mreturn\u001b[0m \u001b[0mimport_obj\u001b[0m\u001b[0;34m(\u001b[0m\u001b[0mfunc\u001b[0m\u001b[0;34m)\u001b[0m\u001b[0;34m(\u001b[0m\u001b[0;34m*\u001b[0m\u001b[0margs\u001b[0m\u001b[0;34m,\u001b[0m \u001b[0;34m**\u001b[0m\u001b[0mkwargs\u001b[0m\u001b[0;34m)\u001b[0m\u001b[0;34m\u001b[0m\u001b[0m\n\u001b[0m\u001b[1;32m    229\u001b[0m \u001b[0;34m\u001b[0m\u001b[0m\n\u001b[1;32m    230\u001b[0m \u001b[0;31m#----------------------------------------------------------------------------\u001b[0m\u001b[0;34m\u001b[0m\u001b[0;34m\u001b[0m\u001b[0m\n",
      "\u001b[0;32m~/11-GenerativeGeomodelling_GANs_MPS_Comparison/GANSimForAllConditioning_20250718/2_GANSimTraining/train.py\u001b[0m in \u001b[0;36mtrain_progressive_gan\u001b[0;34m(cond_well, cond_prob, cond_label, G_smoothing, facies_codes, D_repeats, G_repeats, minibatch_repeats, reset_opt_for_new_lod, total_kimg, img_snapshot_ticks, network_snapshot_ticks, save_tf_graph, save_weight_histograms, resume_run_id, resume_snapshot, facies_indic, resume_kimg, resume_time)\u001b[0m\n\u001b[1;32m    294\u001b[0m                 \u001b[0mgrid_fakeimgs\u001b[0m \u001b[0;34m=\u001b[0m \u001b[0mGs\u001b[0m\u001b[0;34m.\u001b[0m\u001b[0mrun\u001b[0m\u001b[0;34m(\u001b[0m\u001b[0mgrid_latents\u001b[0m\u001b[0;34m,\u001b[0m \u001b[0mgrid_labels_img\u001b[0m\u001b[0;34m,\u001b[0m \u001b[0mgrid_wellfaciesimg_process\u001b[0m\u001b[0;34m,\u001b[0m \u001b[0mgrid_probimgs\u001b[0m\u001b[0;34m,\u001b[0m \u001b[0mminibatch_size\u001b[0m\u001b[0;34m=\u001b[0m\u001b[0msched\u001b[0m\u001b[0;34m.\u001b[0m\u001b[0mminibatch\u001b[0m\u001b[0;34m//\u001b[0m\u001b[0mconfig\u001b[0m\u001b[0;34m.\u001b[0m\u001b[0mnum_gpus\u001b[0m\u001b[0;34m)\u001b[0m\u001b[0;34m\u001b[0m\u001b[0m\n\u001b[1;32m    295\u001b[0m                 \u001b[0mgrid_fakes\u001b[0m \u001b[0;34m=\u001b[0m \u001b[0mget_grid_images\u001b[0m\u001b[0;34m(\u001b[0m\u001b[0mgrid_fakeimgs\u001b[0m\u001b[0;34m,\u001b[0m \u001b[0;36m9\u001b[0m\u001b[0;34m)\u001b[0m\u001b[0;34m\u001b[0m\u001b[0m\n\u001b[0;32m--> 296\u001b[0;31m                 \u001b[0mmisc\u001b[0m\u001b[0;34m.\u001b[0m\u001b[0msave_image_grid\u001b[0m\u001b[0;34m(\u001b[0m\u001b[0mgrid_fakes\u001b[0m\u001b[0;34m,\u001b[0m \u001b[0mos\u001b[0m\u001b[0;34m.\u001b[0m\u001b[0mpath\u001b[0m\u001b[0;34m.\u001b[0m\u001b[0mjoin\u001b[0m\u001b[0;34m(\u001b[0m\u001b[0mresult_subdir\u001b[0m\u001b[0;34m,\u001b[0m \u001b[0;34m'fakes%06d.png'\u001b[0m \u001b[0;34m%\u001b[0m \u001b[0;34m(\u001b[0m\u001b[0mcur_nimg\u001b[0m \u001b[0;34m//\u001b[0m \u001b[0;36m1000\u001b[0m\u001b[0;34m)\u001b[0m\u001b[0;34m)\u001b[0m\u001b[0;34m,\u001b[0m \u001b[0mdrange\u001b[0m\u001b[0;34m=\u001b[0m\u001b[0;34m[\u001b[0m\u001b[0;36m0\u001b[0m\u001b[0;34m,\u001b[0m\u001b[0;36m1\u001b[0m\u001b[0;34m]\u001b[0m\u001b[0;34m,\u001b[0m \u001b[0mgrid_size\u001b[0m\u001b[0;34m=\u001b[0m\u001b[0mgrid_size\u001b[0m\u001b[0;34m)\u001b[0m\u001b[0;34m\u001b[0m\u001b[0m\n\u001b[0m\u001b[1;32m    297\u001b[0m             \u001b[0;32mif\u001b[0m \u001b[0mcur_tick\u001b[0m \u001b[0;34m%\u001b[0m \u001b[0mnetwork_snapshot_ticks\u001b[0m \u001b[0;34m==\u001b[0m \u001b[0;36m0\u001b[0m \u001b[0;32mor\u001b[0m \u001b[0mdone\u001b[0m\u001b[0;34m:\u001b[0m\u001b[0;34m\u001b[0m\u001b[0m\n\u001b[1;32m    298\u001b[0m                 \u001b[0mmisc\u001b[0m\u001b[0;34m.\u001b[0m\u001b[0msave_pkl\u001b[0m\u001b[0;34m(\u001b[0m\u001b[0;34m(\u001b[0m\u001b[0mG\u001b[0m\u001b[0;34m,\u001b[0m \u001b[0mD\u001b[0m\u001b[0;34m,\u001b[0m \u001b[0mGs\u001b[0m\u001b[0;34m)\u001b[0m\u001b[0;34m,\u001b[0m \u001b[0mos\u001b[0m\u001b[0;34m.\u001b[0m\u001b[0mpath\u001b[0m\u001b[0;34m.\u001b[0m\u001b[0mjoin\u001b[0m\u001b[0;34m(\u001b[0m\u001b[0mresult_subdir\u001b[0m\u001b[0;34m,\u001b[0m \u001b[0;34m'network-snapshot-%06d.pkl'\u001b[0m \u001b[0;34m%\u001b[0m \u001b[0;34m(\u001b[0m\u001b[0mcur_nimg\u001b[0m \u001b[0;34m//\u001b[0m \u001b[0;36m1000\u001b[0m\u001b[0;34m)\u001b[0m\u001b[0;34m)\u001b[0m\u001b[0;34m)\u001b[0m\u001b[0;34m\u001b[0m\u001b[0m\n",
      "\u001b[0;32m~/11-GenerativeGeomodelling_GANs_MPS_Comparison/GANSimForAllConditioning_20250718/2_GANSimTraining/misc.py\u001b[0m in \u001b[0;36msave_image_grid\u001b[0;34m(images, filename, drange, grid_size)\u001b[0m\n\u001b[1;32m     85\u001b[0m \u001b[0;34m\u001b[0m\u001b[0m\n\u001b[1;32m     86\u001b[0m \u001b[0;32mdef\u001b[0m \u001b[0msave_image_grid\u001b[0m\u001b[0;34m(\u001b[0m\u001b[0mimages\u001b[0m\u001b[0;34m,\u001b[0m \u001b[0mfilename\u001b[0m\u001b[0;34m,\u001b[0m \u001b[0mdrange\u001b[0m\u001b[0;34m=\u001b[0m\u001b[0;34m[\u001b[0m\u001b[0;36m0\u001b[0m\u001b[0;34m,\u001b[0m\u001b[0;36m1\u001b[0m\u001b[0;34m]\u001b[0m\u001b[0;34m,\u001b[0m \u001b[0mgrid_size\u001b[0m\u001b[0;34m=\u001b[0m\u001b[0;32mNone\u001b[0m\u001b[0;34m)\u001b[0m\u001b[0;34m:\u001b[0m\u001b[0;34m\u001b[0m\u001b[0m\n\u001b[0;32m---> 87\u001b[0;31m     \u001b[0mconvert_to_pil_image\u001b[0m\u001b[0;34m(\u001b[0m\u001b[0mcreate_image_grid\u001b[0m\u001b[0;34m(\u001b[0m\u001b[0mimages\u001b[0m\u001b[0;34m,\u001b[0m \u001b[0mgrid_size\u001b[0m\u001b[0;34m)\u001b[0m\u001b[0;34m,\u001b[0m \u001b[0mdrange\u001b[0m\u001b[0;34m)\u001b[0m\u001b[0;34m.\u001b[0m\u001b[0msave\u001b[0m\u001b[0;34m(\u001b[0m\u001b[0mfilename\u001b[0m\u001b[0;34m)\u001b[0m\u001b[0;34m\u001b[0m\u001b[0m\n\u001b[0m\u001b[1;32m     88\u001b[0m \u001b[0;34m\u001b[0m\u001b[0m\n\u001b[1;32m     89\u001b[0m \u001b[0;31m#----------------------------------------------------------------------------\u001b[0m\u001b[0;34m\u001b[0m\u001b[0;34m\u001b[0m\u001b[0m\n",
      "\u001b[0;32m/share/software/user/open/py-pillow/7.0.0_py36/lib/python3.6/site-packages/PIL/Image.py\u001b[0m in \u001b[0;36msave\u001b[0;34m(self, fp, format, **params)\u001b[0m\n\u001b[1;32m   2097\u001b[0m                 \u001b[0mfp\u001b[0m \u001b[0;34m=\u001b[0m \u001b[0mbuiltins\u001b[0m\u001b[0;34m.\u001b[0m\u001b[0mopen\u001b[0m\u001b[0;34m(\u001b[0m\u001b[0mfilename\u001b[0m\u001b[0;34m,\u001b[0m \u001b[0;34m\"r+b\"\u001b[0m\u001b[0;34m)\u001b[0m\u001b[0;34m\u001b[0m\u001b[0m\n\u001b[1;32m   2098\u001b[0m             \u001b[0;32melse\u001b[0m\u001b[0;34m:\u001b[0m\u001b[0;34m\u001b[0m\u001b[0m\n\u001b[0;32m-> 2099\u001b[0;31m                 \u001b[0mfp\u001b[0m \u001b[0;34m=\u001b[0m \u001b[0mbuiltins\u001b[0m\u001b[0;34m.\u001b[0m\u001b[0mopen\u001b[0m\u001b[0;34m(\u001b[0m\u001b[0mfilename\u001b[0m\u001b[0;34m,\u001b[0m \u001b[0;34m\"w+b\"\u001b[0m\u001b[0;34m)\u001b[0m\u001b[0;34m\u001b[0m\u001b[0m\n\u001b[0m\u001b[1;32m   2100\u001b[0m \u001b[0;34m\u001b[0m\u001b[0m\n\u001b[1;32m   2101\u001b[0m         \u001b[0;32mtry\u001b[0m\u001b[0;34m:\u001b[0m\u001b[0;34m\u001b[0m\u001b[0m\n",
      "\u001b[0;31mFileNotFoundError\u001b[0m: [Errno 2] No such file or directory: '/scratch/users/suihong/Mud_drape_Channels/TrainedModels/066-prog_1gpu/fakes000640.png'"
     ]
    }
   ],
   "source": [
    "\n",
    "% run train.py"
   ]
  },
  {
   "cell_type": "code",
   "execution_count": null,
   "metadata": {
    "collapsed": true
   },
   "outputs": [],
   "source": []
  }
 ],
 "metadata": {
  "kernelspec": {
   "display_name": "Python 3",
   "language": "python",
   "name": "python3"
  },
  "language_info": {
   "codemirror_mode": {
    "name": "ipython",
    "version": 3
   },
   "file_extension": ".py",
   "mimetype": "text/x-python",
   "name": "python",
   "nbconvert_exporter": "python",
   "pygments_lexer": "ipython3",
   "version": "3.6.1"
  }
 },
 "nbformat": 4,
 "nbformat_minor": 2
}
