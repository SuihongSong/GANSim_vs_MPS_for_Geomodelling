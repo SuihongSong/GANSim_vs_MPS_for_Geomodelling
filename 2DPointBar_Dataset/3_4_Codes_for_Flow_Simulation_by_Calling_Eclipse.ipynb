{
 "cells": [
  {
   "cell_type": "markdown",
   "metadata": {},
   "source": [
    "In a laptop, iteratively calling Eclipse to perform flow simulation for each group of permeability maps and boundary pressure values\n",
    "\n",
    "Steps:\n",
    "\n",
    "1. Construct an Eclipse flow simulation case, referred to as \"Case5\" here.\n",
    "\n",
    "2. For each set of permeability map and boundary pressure values, insert them and replace the corresponding data in Case5.\n",
    "\n",
    "3. Run Case5 using Eclipse.\n",
    "\n",
    "4. Collect the simulated pressure maps and copy them to a separate folder."
   ]
  },
  {
   "cell_type": "code",
   "execution_count": null,
   "metadata": {
    "collapsed": true
   },
   "outputs": [],
   "source": [
    "import os\n",
    "import numpy as np\n",
    "import shutil\n",
    "\n",
    "# Path to the Eclipse executable\n",
    "eclrun = r'C:\\ecl\\macros\\eclrun.exe'\n",
    "\n",
    "# Directory to the constructed Eclipse case\n",
    "simcasepath = r'F:\\Papers\\Papers\\Paper7_FlowSimRelated\\FlowSimulation\\EclipseFlowSimCase_64x64_30day\\Case5\\\\'\n",
    "\n",
    "# Directory containing permeability and pressure input files\n",
    "perm_pres_path = r'F:\\Papers\\Papers\\Paper7_FlowSimRelated\\FlowSimulation\\PointBar_Flow_case1\\Perm_BoundaryPres\\\\'\n",
    "\n",
    "# Directory to save simulated pressure maps\n",
    "sim_pres_path = r'F:\\Papers\\Papers\\Paper7_FlowSimRelated\\FlowSimulation\\PointBar_Flow_case1\\SimulatedPres\\\\'\n"
   ]
  },
  {
   "cell_type": "code",
   "execution_count": null,
   "metadata": {
    "collapsed": true
   },
   "outputs": [],
   "source": [
    "# Read press boundary values\n",
    "\n",
    "presfile = perm_pres_path + 'PressureBoundaryValues.txt'\n",
    "allele=[] \n",
    "with open(presfile, 'r') as f:\n",
    "    for line in f:\n",
    "        eles = line.strip().split('  ')\n",
    "        allele.append(eles)\n",
    "pressbound_values = np.array(allele).reshape((-1, 2)).astype(np.float32)"
   ]
  },
  {
   "cell_type": "code",
   "execution_count": null,
   "metadata": {
    "collapsed": true
   },
   "outputs": [],
   "source": [
    "# Write boundary pressure values and initial pressure value into _init.INC file of Eclipse Simulate Case\n",
    "\n",
    "def writepress(press_array, row, init_file):\n",
    "    [large_bound, small_bound] = press_array[row]\n",
    "    os.remove(init_file)\n",
    "    content = 'ECHO\\n'+'EQUIL\\n'\n",
    "    content = content + '    3005     ' + str(small_bound) + '       0       0      1*       0       0       0       0      1*      1*'\n",
    "    content = content + '/\\n'+'AQUALIST\\n'+'   QUIFER_1        2 /\\n'+ '   TAQUIFER        1 /\\n' + '/\\n'+ 'AQUFETP\\n'\n",
    "    content = content + ' 1 3005 ' + str(large_bound) + '          1E+14 0.00014504 1.0E+14 1 0.0 /\\n'\n",
    "    content = content + ' 2 3005 ' + str(small_bound) + '          1E+14 0.00014504 1.0E+14 1 0.0 /\\n'\n",
    "    content = content + '/\\n' + 'AQUANCON\\n' + '     1     1    64     1     1     1     1 \\'J+\\'          1*          1* \\'YES\\'  /\\n'\n",
    "    content = content + '     2     1    64    64    64     1     1 \\'J+\\'          1*          1* \\'YES\\'  /\\n'+'/\\n'\n",
    "    file = open(init_file, 'a')\n",
    "    file.write(content)\n",
    "    file.close()"
   ]
  },
  {
   "cell_type": "code",
   "execution_count": null,
   "metadata": {
    "collapsed": true
   },
   "outputs": [],
   "source": [
    "# function to collect simulated pressure maps and write them into new file\n",
    "# used for reservoir dimensions larger than 15\n",
    "\n",
    "def arrangepressuremaps(simcasepath, savepath, perm_num):\n",
    "    D = 64\n",
    "    a = D//15+1\n",
    "    time_steps = 30\n",
    "    \n",
    "    pressmaparray_1 = np.zeros((D*a*time_steps, 15))\n",
    "    array_row = 0\n",
    "    resultfile = simcasepath + 'CASE5_E100.PRT'\n",
    "    with open(resultfile, 'r') as f:\n",
    "        for line in f:\n",
    "            if line.startswith(' (*, '):\n",
    "                s = line.strip()[13:]\n",
    "                s = np.array(s.split(' ')).astype(np.float32)\n",
    "                pressmaparray_1[array_row,:s.shape[0]] = s\n",
    "                array_row += 1\n",
    "    \n",
    "    pressmaparray_2 = np.zeros((D*time_steps, D))\n",
    "    for i in range(time_steps):\n",
    "        for j in range(a-1):\n",
    "            pressmaparray_2[i*D:(i+1)*D,j*15:(j+1)*15] = pressmaparray_1[i*D*a + j*D: i*D*a + (j+1)*D]\n",
    "        pressmaparray_2[i*D:(i+1)*D,D-a+1:] = pressmaparray_1[i*D*a + (a-1)*D:i*D*a + a*D, 0:a-1]\n",
    "    \n",
    "    result_name = savepath+'sim_pressuremaps_'+str(perm_num)\n",
    "    np.savetxt(result_name, pressmaparray_2, fmt=\"%1.3f\", newline='\\n')   # \"%03d\" + \"%.10f\"*7"
   ]
  },
  {
   "cell_type": "code",
   "execution_count": null,
   "metadata": {
    "collapsed": true
   },
   "outputs": [],
   "source": [
    "import time\n",
    "import os\n",
    "\n",
    "# Start overall timer\n",
    "start_time = time.time()\n",
    "\n",
    "for i in range(1, 202):\n",
    "    iteration_start_time = time.time()  # Start timer for the current iteration\n",
    "\n",
    "    # remove the original permability maps\n",
    "    os.remove(simcasepath+'PermI.txt')\n",
    "    # copy the target permeability maps\n",
    "    shutil.copy2(perm_pres_path + 'permmap_' + str(i), simcasepath+'PermI.txt')\n",
    "    # write the target boundary and initial pressure values\n",
    "    writepress(pressbound_values, i-1, simcasepath + 'Case5_init.INC')   \n",
    "    # run simulation with target permeability and pressure values\n",
    "    os.system('eclrun eclipse ' + simcasepath + 'CASE5_E100.DATA')\n",
    "    # collect the simulated pressure maps and save it into new folder\n",
    "    arrangepressuremaps(simcasepath, sim_pres_path, i)\n",
    "\n",
    "# Calculate the total time taken for the entire loop\n",
    "end_time = time.time()\n",
    "total_duration = end_time - start_time\n",
    "print(f\"Total time for the process: {total_duration:.2f} seconds\")\n",
    "    "
   ]
  },
  {
   "cell_type": "code",
   "execution_count": null,
   "metadata": {
    "collapsed": true
   },
   "outputs": [],
   "source": [
    "# method to read the simulated pressure maps\n",
    "\n",
    "press_test_file = sim_pres_path + 'sim_pressuremaps_51'\n",
    "allele=[] \n",
    "with open(press_test_file, 'r') as f:\n",
    "    for line in f:\n",
    "        eles = line.strip().split(' ')\n",
    "        allele.append(eles)\n",
    "pressmap_test = np.array(allele).reshape(-1,64,64).astype(np.float32)"
   ]
  }
 ],
 "metadata": {
  "kernelspec": {
   "display_name": "Python 3",
   "language": "python",
   "name": "python3"
  },
  "language_info": {
   "codemirror_mode": {
    "name": "ipython",
    "version": 3
   },
   "file_extension": ".py",
   "mimetype": "text/x-python",
   "name": "python",
   "nbconvert_exporter": "python",
   "pygments_lexer": "ipython3",
   "version": "3.6.1"
  }
 },
 "nbformat": 4,
 "nbformat_minor": 2
}
