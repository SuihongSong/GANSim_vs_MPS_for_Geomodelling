{
 "cells": [
  {
   "cell_type": "markdown",
   "metadata": {},
   "source": [
    "##### Settings for condition-based loss for probability map are explained in detail in 'Note for settings of probability map-based loss.ipynb'.   "
   ]
  },
  {
   "cell_type": "code",
   "execution_count": null,
   "metadata": {
    "scrolled": true
   },
   "outputs": [
    {
     "name": "stdout",
     "output_type": "stream",
     "text": [
      "/home/users/suihong/11-GenerativeGeomodelling_GANs_MPS_Comparison/2DChannel/3_3_2_GANSimTraining(Latent8)\n"
     ]
    }
   ],
   "source": [
    "%cd /home/users/suihong/11-GenerativeGeomodelling_GANs_MPS_Comparison/2DChannel/3_3_2_GANSimTraining(Latent8)/"
   ]
  },
  {
   "cell_type": "code",
   "execution_count": null,
   "metadata": {
    "scrolled": false
   },
   "outputs": [
    {
     "name": "stdout",
     "output_type": "stream",
     "text": [
      "WARNING:tensorflow:From /share/software/user/open/py-tensorflow/2.6.2_py36/lib/python3.6/site-packages/tensorflow/python/compat/v2_compat.py:101: disable_resource_variables (from tensorflow.python.ops.variable_scope) is deprecated and will be removed in a future version.\n",
      "Instructions for updating:\n",
      "non-resource variables are not supported in the long term\n",
      "Initializing TensorFlow...\n",
      "Running train.train_progressive_gan()...\n",
      "Streaming data using dataset.TFRecordDataset...\n",
      "WARNING:tensorflow:From /home/users/suihong/11-GenerativeGeomodelling_GANs_MPS_Comparison/2DChannel/3_3_2_GANSimTraining(Latent8)/dataset.py:99: tf_record_iterator (from tensorflow.python.lib.io.tf_record) is deprecated and will be removed in a future version.\n",
      "Instructions for updating:\n",
      "Use eager execution and: \n",
      "`tf.data.TFRecordDataset(path)`\n",
      "WARNING:tensorflow:From /home/users/suihong/11-GenerativeGeomodelling_GANs_MPS_Comparison/2DChannel/3_3_2_GANSimTraining(Latent8)/dataset.py:143: DatasetV1.output_types (from tensorflow.python.data.ops.dataset_ops) is deprecated and will be removed in a future version.\n",
      "Instructions for updating:\n",
      "Use `tf.compat.v1.data.get_output_types(dataset)`.\n",
      "WARNING:tensorflow:From /home/users/suihong/11-GenerativeGeomodelling_GANs_MPS_Comparison/2DChannel/3_3_2_GANSimTraining(Latent8)/dataset.py:143: DatasetV1.output_shapes (from tensorflow.python.data.ops.dataset_ops) is deprecated and will be removed in a future version.\n",
      "Instructions for updating:\n",
      "Use `tf.compat.v1.data.get_output_shapes(dataset)`.\n",
      "WARNING:tensorflow:From /share/software/user/open/py-tensorflow/2.6.2_py36/lib/python3.6/site-packages/tensorflow/python/data/ops/iterator_ops.py:336: Iterator.output_types (from tensorflow.python.data.ops.iterator_ops) is deprecated and will be removed in a future version.\n",
      "Instructions for updating:\n",
      "Use `tf.compat.v1.data.get_output_types(iterator)`.\n",
      "WARNING:tensorflow:From /share/software/user/open/py-tensorflow/2.6.2_py36/lib/python3.6/site-packages/tensorflow/python/data/ops/iterator_ops.py:337: Iterator.output_shapes (from tensorflow.python.data.ops.iterator_ops) is deprecated and will be removed in a future version.\n",
      "Instructions for updating:\n",
      "Use `tf.compat.v1.data.get_output_shapes(iterator)`.\n",
      "WARNING:tensorflow:From /share/software/user/open/py-tensorflow/2.6.2_py36/lib/python3.6/site-packages/tensorflow/python/data/ops/iterator_ops.py:339: Iterator.output_classes (from tensorflow.python.data.ops.iterator_ops) is deprecated and will be removed in a future version.\n",
      "Instructions for updating:\n",
      "Use `tf.compat.v1.data.get_output_classes(iterator)`.\n",
      "Dataset shape = [1, 64, 64]\n",
      "Dynamic range = [0, 2]\n",
      "Label size    = 5\n",
      "Constructing networks...\n",
      "\n",
      "G                           Params      OutputShape             WeightShape             \n",
      "---                         ---         ---                     ---                     \n",
      "latents_in                  -           (?, 8, 8, 8)            -                       \n",
      "labels_in                   -           (?, 34, 64, 64)         -                       \n",
      "wellfacies_in               -           (?, 2, 64, 64)          -                       \n",
      "probimgs_in                 -           (?, 2, 64, 64)          -                       \n",
      "lod                         -           ()                      -                       \n",
      "label_compress/Orit_Conv0   248         (?, 8, 64, 64)          (1, 1, 30, 8)           \n",
      "label_compress/Orit_Conv1   27          (?, 3, 64, 64)          (1, 1, 8, 3)            \n",
      "label_compress/Conv0        56          (?, 7, 64, 64)          (1, 1, 7, 7)            \n",
      "label_compress/Conv1        56          (?, 7, 64, 64)          (1, 1, 7, 7)            \n",
      "stage2_8/Conv0              7008        (?, 96, 8, 8)           (3, 3, 8, 96)           \n",
      "stage2_8/Conv1              83040       (?, 96, 8, 8)           (3, 3, 96, 96)          \n",
      "stage2_8/Add_Label          56          (?, 7, 8, 8)            (1, 1, 7, 7)            \n",
      "stage2_8/Add_Prob           24          (?, 8, 8, 8)            (1, 1, 2, 8)            \n",
      "stage2_8/Add_Wellfc         96          (?, 8, 8, 8)            -                       \n",
      "stage2_8/Conv2              102912      (?, 96, 8, 8)           (3, 3, 119, 96)         \n",
      "tofm_prob_lod3              291         (?, 3, 8, 8)            (1, 1, 96, 3)           \n",
      "stage3_16/Upscale2d         -           (?, 96, 16, 16)         -                       \n",
      "stage3_16/Add_Label         56          (?, 7, 16, 16)          (1, 1, 7, 7)            \n",
      "stage3_16/Add_Prob          24          (?, 8, 16, 16)          (1, 1, 2, 8)            \n",
      "stage3_16/Add_Wellfc        96          (?, 8, 16, 16)          -                       \n",
      "stage3_16/Conv0             102912      (?, 96, 16, 16)         (3, 3, 119, 96)         \n",
      "stage3_16/Conv1             83040       (?, 96, 16, 16)         (3, 3, 96, 96)          \n",
      "stage3_16/Conv2             83040       (?, 96, 16, 16)         (3, 3, 96, 96)          \n",
      "tofm_prob_lod2              291         (?, 3, 16, 16)          (1, 1, 96, 3)           \n",
      "Upscale2d                   -           (?, 3, 16, 16)          -                       \n",
      "Grow_lod2                   -           (?, 3, 16, 16)          -                       \n",
      "stage4_32/Upscale2d         -           (?, 96, 32, 32)         -                       \n",
      "stage4_32/Add_Label         56          (?, 7, 32, 32)          (1, 1, 7, 7)            \n",
      "stage4_32/Add_Prob          24          (?, 8, 32, 32)          (1, 1, 2, 8)            \n",
      "stage4_32/Add_Wellfc        96          (?, 8, 32, 32)          -                       \n",
      "stage4_32/Conv0             102912      (?, 96, 32, 32)         (3, 3, 119, 96)         \n",
      "stage4_32/Conv1             83040       (?, 96, 32, 32)         (3, 3, 96, 96)          \n",
      "stage4_32/Conv2             83040       (?, 96, 32, 32)         (3, 3, 96, 96)          \n",
      "tofm_prob_lod1              291         (?, 3, 32, 32)          (1, 1, 96, 3)           \n",
      "Upscale2d_1                 -           (?, 3, 32, 32)          -                       \n",
      "Grow_lod1                   -           (?, 3, 32, 32)          -                       \n",
      "stage5_64/Upscale2d         -           (?, 96, 64, 64)         -                       \n",
      "stage5_64/Add_Label         56          (?, 7, 64, 64)          (1, 1, 7, 7)            \n",
      "stage5_64/Add_Prob          24          (?, 8, 64, 64)          (1, 1, 2, 8)            \n",
      "stage5_64/Add_Wellfc/Conv0  24          (?, 8, 64, 64)          (1, 1, 2, 8)            \n",
      "stage5_64/Add_Wellfc/Conv1  72          (?, 8, 64, 64)          (1, 1, 8, 8)            \n",
      "stage5_64/Conv0             68608       (?, 64, 64, 64)         (3, 3, 119, 64)         \n",
      "stage5_64/Conv1             36928       (?, 64, 64, 64)         (3, 3, 64, 64)          \n",
      "stage5_64/Conv2             36928       (?, 64, 64, 64)         (3, 3, 64, 64)          \n",
      "tofm_prob_lod0              195         (?, 3, 64, 64)          (1, 1, 64, 3)           \n",
      "Upscale2d_2                 -           (?, 3, 64, 64)          -                       \n",
      "Grow_lod0                   -           (?, 3, 64, 64)          -                       \n",
      "Rank                        -           ()                      -                       \n",
      "Rank_1                      -           ()                      -                       \n",
      "Sub                         -           ()                      -                       \n",
      "range                       -           (1,)                    -                       \n",
      "range_1                     -           (1,)                    -                       \n",
      "transpose                   -           (?, 64, 64, 3)          -                       \n",
      "Softmax                     -           (?, 64, 64, 3)          -                       \n",
      "Sub_1                       -           ()                      -                       \n",
      "range_2                     -           (1,)                    -                       \n",
      "range_3                     -           (1,)                    -                       \n",
      "transpose_1                 -           (?, 3, 64, 64)          -                       \n",
      "imgs_out                    -           (?, 3, 64, 64)          -                       \n"
     ]
    },
    {
     "name": "stdout",
     "output_type": "stream",
     "text": [
      "---                         ---         ---                     ---                     \n",
      "Total                       875567                                                      \n",
      "\n",
      "\n",
      "D                           Params      OutputShape             WeightShape             \n",
      "---                         ---         ---                     ---                     \n",
      "imgs_in                     -           (?, 3, 64, 64)          -                       \n",
      "wellindicator_in            -           (?, 1, 64, 64)          -                       \n",
      "lod                         -           ()                      -                       \n",
      "FromFM_lod0                 64          (?, 16, 64, 64)         (1, 1, 3, 16)           \n",
      "init_pat_feat               -           (?,)                    -                       \n",
      "init_pat_feat_1             -           (?,)                    -                       \n",
      "init_pat_feat_2             -           (?,)                    -                       \n",
      "ToPF_lod0                   3841        (?,)                    -                       \n",
      "pat_feat_Grow_lod0          -           (?,)                    -                       \n",
      "stage5_64/Conv0             4640        (?, 32, 32, 32)         (3, 3, 16, 32)          \n",
      "stage5_64/Conv1             9248        (?, 32, 64, 64)         (3, 3, 32, 32)          \n",
      "stage5_64/Downscale2d       -           (?, 32, 32, 32)         -                       \n",
      "Downscale2d                 -           (?, 3, 32, 32)          -                       \n",
      "FromFM_lod1                 128         (?, 32, 32, 32)         (1, 1, 3, 32)           \n",
      "Grow_lod0                   -           (?, 32, 32, 32)         -                       \n",
      "ToPF_lod1                   4865        (?,)                    -                       \n",
      "pat_feat_Grow_lod1          -           (?,)                    -                       \n",
      "stage4_32/Conv0             18496       (?, 64, 16, 16)         (3, 3, 32, 64)          \n",
      "stage4_32/Conv1             36928       (?, 64, 32, 32)         (3, 3, 64, 64)          \n",
      "stage4_32/Downscale2d       -           (?, 64, 16, 16)         -                       \n",
      "Downscale2d_1               -           (?, 3, 16, 16)          -                       \n",
      "FromFM_lod2                 256         (?, 64, 16, 16)         (1, 1, 3, 64)           \n",
      "Grow_lod1                   -           (?, 64, 16, 16)         -                       \n",
      "ToPF_lod2                   6913        (?,)                    -                       \n",
      "pat_feat_Grow_lod2          -           (?,)                    -                       \n",
      "stage3_16/Conv0             73856       (?, 128, 8, 8)          (3, 3, 64, 128)         \n",
      "stage3_16/Conv1             147584      (?, 128, 16, 16)        (3, 3, 128, 128)        \n",
      "stage3_16/Downscale2d       -           (?, 128, 8, 8)          -                       \n",
      "Downscale2d_2               -           (?, 3, 8, 8)            -                       \n",
      "FromFM_lod3                 512         (?, 128, 8, 8)          (1, 1, 3, 128)          \n",
      "Grow_lod2                   -           (?, 128, 8, 8)          -                       \n",
      "ToPF_lod3                   11009       (?,)                    -                       \n",
      "pat_feat_Grow_lod3          -           (?,)                    -                       \n",
      "stage2_8/Conv0              147584      (?, 128, 4, 4)          (3, 3, 128, 128)        \n",
      "stage2_8/Conv1              147584      (?, 128, 8, 8)          (3, 3, 128, 128)        \n",
      "stage2_8/Downscale2d        -           (?, 128, 4, 4)          -                       \n",
      "Downscale2d_3               -           (?, 3, 4, 4)            -                       \n",
      "FromFM_lod4                 512         (?, 128, 4, 4)          (1, 1, 3, 128)          \n",
      "Grow_lod3                   -           (?, 128, 4, 4)          -                       \n",
      "ToPF_lod5                   11009       (?,)                    -                       \n",
      "pat_feat_Grow_lod5          -           (?,)                    -                       \n",
      "stage1_4/MinibatchStddev    -           (?, 1, 4, 4)            -                       \n",
      "stage1_4/Conv               148736      (?, 128, 4, 4)          (3, 3, 129, 128)        \n",
      "stage1_4/Dense0             36882       (?, 18)                 (2048, 18)              \n",
      "stage1_4/Dense1             665         (?, 35)                 (18, 35)                \n",
      "scores_out_global           -           (?, 1)                  -                       \n",
      "scores_out_local_lg         -           (?,)                    -                       \n",
      "scores_out_local_md         -           (?,)                    -                       \n",
      "scores_out_local_sm         -           (?,)                    -                       \n",
      "labels_out                  -           (?, 34)                 -                       \n",
      "---                         ---         ---                     ---                     \n",
      "Total                       811312                                                      \n",
      "\n",
      "Building TensorFlow graph...\n",
      "WARNING:tensorflow:From /share/software/user/open/py-tensorflow/2.6.2_py36/lib/python3.6/site-packages/tensorflow/python/util/dispatch.py:206: calling reduce_sum_v1 (from tensorflow.python.ops.math_ops) with keep_dims is deprecated and will be removed in a future version.\n",
      "Instructions for updating:\n",
      "keep_dims is deprecated, use keepdims instead\n",
      "Setting up snapshot image grid...\n",
      "Setting up result dir...\n",
      "Saving results to /scratch/users/suihong/GANSim_vs_MPS_for_Geomodelling/2DChannel/0_Data/GANSim_cond_gf_well_prob/001-prog_1gpu-CondLabel-CondWell-CondProb\n",
      "Training...\n",
      "tick 1     kimg 160.0    lod 4.00  minibatch 128  time 3m 30s       sec/tick 210.1   sec/kimg 1.31    maintenance 31.5\n",
      "tick 2     kimg 320.0    lod 4.00  minibatch 128  time 7m 03s       sec/tick 204.1   sec/kimg 1.28    maintenance 8.6\n"
     ]
    }
   ],
   "source": [
    "\n",
    "% run train.py"
   ]
  },
  {
   "cell_type": "code",
   "execution_count": null,
   "metadata": {
    "collapsed": true
   },
   "outputs": [],
   "source": []
  }
 ],
 "metadata": {
  "kernelspec": {
   "display_name": "Python 3",
   "language": "python",
   "name": "python3"
  },
  "language_info": {
   "codemirror_mode": {
    "name": "ipython",
    "version": 3
   },
   "file_extension": ".py",
   "mimetype": "text/x-python",
   "name": "python",
   "nbconvert_exporter": "python",
   "pygments_lexer": "ipython3",
   "version": "3.6.1"
  }
 },
 "nbformat": 4,
 "nbformat_minor": 2
}
